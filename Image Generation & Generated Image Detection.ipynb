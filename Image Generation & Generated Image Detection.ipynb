{
 "cells": [
  {
   "cell_type": "markdown",
   "id": "bcc6cff3-af92-41f9-b173-eb1c439da690",
   "metadata": {},
   "source": [
    "### Generate Images - VAE"
   ]
  },
  {
   "cell_type": "code",
   "execution_count": 89,
   "id": "40b28ea7-3b3d-4bcb-9eb6-6b4cfd7f7822",
   "metadata": {
    "execution": {
     "iopub.execute_input": "2024-06-02T08:49:37.128506Z",
     "iopub.status.busy": "2024-06-02T08:49:37.127775Z",
     "iopub.status.idle": "2024-06-02T08:49:37.133221Z",
     "shell.execute_reply": "2024-06-02T08:49:37.132305Z",
     "shell.execute_reply.started": "2024-06-02T08:49:37.128470Z"
    }
   },
   "outputs": [],
   "source": [
    "import torch\n",
    "import numpy as np\n",
    "from tqdm import tqdm\n",
    "from torchvision.utils import save_image\n",
    "from torchvision.transforms.functional import to_pil_image\n",
    "\n",
    "from models import VAE"
   ]
  },
  {
   "cell_type": "code",
   "execution_count": 90,
   "id": "d8d12297-c1f5-4a3a-adce-49853fd0c806",
   "metadata": {
    "execution": {
     "iopub.execute_input": "2024-06-02T08:49:37.715462Z",
     "iopub.status.busy": "2024-06-02T08:49:37.715004Z",
     "iopub.status.idle": "2024-06-02T08:49:38.402339Z",
     "shell.execute_reply": "2024-06-02T08:49:38.401453Z",
     "shell.execute_reply.started": "2024-06-02T08:49:37.715428Z"
    }
   },
   "outputs": [],
   "source": [
    "device = 'cuda:0'\n",
    "checkpoint = torch.load('result/VAE_3/best_model.pt')\n",
    "number_of_gen = 100"
   ]
  },
  {
   "cell_type": "code",
   "execution_count": 91,
   "id": "c7345c23-1b54-44ca-a19d-89251dd8b94c",
   "metadata": {
    "execution": {
     "iopub.execute_input": "2024-06-02T08:49:38.404261Z",
     "iopub.status.busy": "2024-06-02T08:49:38.403867Z",
     "iopub.status.idle": "2024-06-02T08:49:38.550443Z",
     "shell.execute_reply": "2024-06-02T08:49:38.549547Z",
     "shell.execute_reply.started": "2024-06-02T08:49:38.404228Z"
    }
   },
   "outputs": [
    {
     "data": {
      "text/plain": [
       "VAE(\n",
       "  (encoder): Encoder(\n",
       "    (layer1): Sequential(\n",
       "      (0): Conv2d(3, 32, kernel_size=(3, 3), stride=(1, 1))\n",
       "      (1): ELU(alpha=1.0)\n",
       "      (2): Dropout(p=0.25, inplace=False)\n",
       "      (3): Conv2d(32, 64, kernel_size=(3, 3), stride=(2, 2))\n",
       "      (4): ELU(alpha=1.0)\n",
       "      (5): Conv2d(64, 64, kernel_size=(3, 3), stride=(1, 1))\n",
       "      (6): ELU(alpha=1.0)\n",
       "      (7): MaxPool2d(kernel_size=(3, 3), stride=2, padding=0, dilation=1, ceil_mode=False)\n",
       "    )\n",
       "    (layer2): Sequential(\n",
       "      (0): Conv2d(64, 128, kernel_size=(3, 3), stride=(1, 1))\n",
       "      (1): ELU(alpha=1.0)\n",
       "      (2): Dropout(p=0.25, inplace=False)\n",
       "      (3): Conv2d(128, 256, kernel_size=(3, 3), stride=(2, 2))\n",
       "      (4): ELU(alpha=1.0)\n",
       "      (5): Conv2d(256, 256, kernel_size=(3, 3), stride=(1, 1))\n",
       "      (6): ELU(alpha=1.0)\n",
       "      (7): MaxPool2d(kernel_size=(3, 3), stride=2, padding=0, dilation=1, ceil_mode=False)\n",
       "    )\n",
       "    (layer3): Sequential(\n",
       "      (0): Conv2d(256, 256, kernel_size=(3, 3), stride=(1, 1))\n",
       "      (1): ELU(alpha=1.0)\n",
       "      (2): Dropout(p=0.25, inplace=False)\n",
       "      (3): Conv2d(256, 512, kernel_size=(3, 3), stride=(1, 1))\n",
       "      (4): ELU(alpha=1.0)\n",
       "    )\n",
       "    (fc): Linear(in_features=512, out_features=1024, bias=True)\n",
       "  )\n",
       "  (decoder): Decoder(\n",
       "    (fc): Sequential(\n",
       "      (0): Linear(in_features=512, out_features=512, bias=True)\n",
       "      (1): ELU(alpha=1.0)\n",
       "    )\n",
       "    (layer1): Sequential(\n",
       "      (0): ConvTranspose2d(512, 512, kernel_size=(3, 3), stride=(2, 2))\n",
       "      (1): ELU(alpha=1.0)\n",
       "      (2): UpsamplingNearest2d(scale_factor=2.0, mode='nearest')\n",
       "      (3): ConvTranspose2d(512, 256, kernel_size=(3, 3), stride=(1, 1))\n",
       "      (4): ELU(alpha=1.0)\n",
       "      (5): ConvTranspose2d(256, 256, kernel_size=(3, 3), stride=(2, 2), padding=(1, 1))\n",
       "      (6): ELU(alpha=1.0)\n",
       "      (7): Dropout(p=0.25, inplace=False)\n",
       "    )\n",
       "    (layer2): Sequential(\n",
       "      (0): ConvTranspose2d(256, 128, kernel_size=(3, 3), stride=(2, 2), padding=(1, 1))\n",
       "      (1): ELU(alpha=1.0)\n",
       "      (2): UpsamplingNearest2d(scale_factor=2.0, mode='nearest')\n",
       "      (3): ConvTranspose2d(128, 64, kernel_size=(3, 3), stride=(1, 1))\n",
       "      (4): ELU(alpha=1.0)\n",
       "      (5): ConvTranspose2d(64, 64, kernel_size=(3, 3), stride=(1, 1))\n",
       "      (6): ELU(alpha=1.0)\n",
       "      (7): Dropout(p=0.25, inplace=False)\n",
       "      (8): ConvTranspose2d(64, 32, kernel_size=(3, 3), stride=(2, 2), output_padding=(1, 1))\n",
       "      (9): ELU(alpha=1.0)\n",
       "      (10): ConvTranspose2d(32, 3, kernel_size=(3, 3), stride=(1, 1))\n",
       "      (11): ELU(alpha=1.0)\n",
       "    )\n",
       "  )\n",
       ")"
      ]
     },
     "execution_count": 91,
     "metadata": {},
     "output_type": "execute_result"
    }
   ],
   "source": [
    "model = VAE('ELU')\n",
    "model.load_state_dict(checkpoint)\n",
    "model.to(device)"
   ]
  },
  {
   "cell_type": "code",
   "execution_count": 99,
   "id": "0b3bef18-afe5-4ba8-83d5-86f0d1850eac",
   "metadata": {
    "execution": {
     "iopub.execute_input": "2024-06-02T08:49:49.114504Z",
     "iopub.status.busy": "2024-06-02T08:49:49.114001Z",
     "iopub.status.idle": "2024-06-02T08:49:49.121851Z",
     "shell.execute_reply": "2024-06-02T08:49:49.120879Z",
     "shell.execute_reply.started": "2024-06-02T08:49:49.114471Z"
    }
   },
   "outputs": [],
   "source": [
    "gen_imgs = model.generate_sample(torch.randn(number_of_gen, 512, device='cuda'))"
   ]
  },
  {
   "cell_type": "code",
   "execution_count": 100,
   "id": "3bf66971-47fa-43b6-802b-4c79e93db5f5",
   "metadata": {
    "execution": {
     "iopub.execute_input": "2024-06-02T08:49:49.454292Z",
     "iopub.status.busy": "2024-06-02T08:49:49.453810Z",
     "iopub.status.idle": "2024-06-02T08:49:49.468390Z",
     "shell.execute_reply": "2024-06-02T08:49:49.467349Z",
     "shell.execute_reply.started": "2024-06-02T08:49:49.454261Z"
    }
   },
   "outputs": [
    {
     "data": {
      "image/jpeg": "[encoded data removed]",
      "image/png": "[encoded data removed]",
      "text/plain": [
       "<PIL.Image.Image image mode=RGB size=128x128>"
      ]
     },
     "execution_count": 100,
     "metadata": {},
     "output_type": "execute_result"
    }
   ],
   "source": [
    "to_pil_image(gen_imgs[0])"
   ]
  },
  {
   "cell_type": "code",
   "execution_count": 9,
   "id": "6da95e60-334e-4125-a128-209d7b93b57d",
   "metadata": {
    "execution": {
     "iopub.execute_input": "2024-05-31T00:44:55.250596Z",
     "iopub.status.busy": "2024-05-31T00:44:55.249536Z",
     "iopub.status.idle": "2024-05-31T00:44:55.824586Z",
     "shell.execute_reply": "2024-05-31T00:44:55.823642Z",
     "shell.execute_reply.started": "2024-05-31T00:44:55.250558Z"
    }
   },
   "outputs": [],
   "source": [
    "for index in range(number_of_gen):\n",
    "    save_image(gen_imgs[index, :, :], f'gen_data/{index}.png', normalize=True)"
   ]
  },
  {
   "cell_type": "markdown",
   "id": "b7dc82f3-5047-4e5b-acea-5fb989a99881",
   "metadata": {},
   "source": [
    "### Generate Images - GAN"
   ]
  },
  {
   "cell_type": "code",
   "execution_count": null,
   "id": "06b8328a-25cb-4c71-929e-1a4d0caff81b",
   "metadata": {},
   "outputs": [],
   "source": [
    "import torch\n",
    "import numpy as np\n",
    "from tqdm import tqdm\n",
    "from torchvision.utils import save_image\n",
    "from torchvision.transforms.functional import to_pil_image\n",
    "\n",
    "from models import Discriminator, Generator"
   ]
  },
  {
   "cell_type": "code",
   "execution_count": null,
   "id": "15532c2a-651b-4a1c-99c3-1c229833b4d7",
   "metadata": {},
   "outputs": [],
   "source": [
    "device = 'cuda:0'\n",
    "checkpoint = torch.load('result/GAN_1/119.pt')\n",
    "number_of_gen = 100"
   ]
  },
  {
   "cell_type": "code",
   "execution_count": null,
   "id": "8994dff9-d493-43ac-bfea-6630d067b4d7",
   "metadata": {},
   "outputs": [],
   "source": [
    "generator = Generator()\n",
    "generator.load_state_dict(checkpoint)\n",
    "generator.to(device)"
   ]
  },
  {
   "cell_type": "code",
   "execution_count": null,
   "id": "56c30eda-f747-4582-ab2f-5360cf4c7ec5",
   "metadata": {},
   "outputs": [],
   "source": [
    "z = torch.randn((number_of_gen, 512), device=device)\n",
    "gen_imgs = generator(z)"
   ]
  },
  {
   "cell_type": "code",
   "execution_count": null,
   "id": "506066e7-d438-46db-9087-a79562e4c513",
   "metadata": {},
   "outputs": [],
   "source": [
    "for index in range(100):\n",
    "    save_image(gen_imgs[index, :, :], f'gen_data/{index}.png', normalize=True)"
   ]
  },
  {
   "cell_type": "markdown",
   "id": "5d257a83-05c3-4d97-9123-43c7dfaa77cd",
   "metadata": {},
   "source": [
    "### Detect AI generated image"
   ]
  },
  {
   "cell_type": "code",
   "execution_count": 3,
   "id": "9f00866b-dba0-40ce-8c0d-501f056e940a",
   "metadata": {
    "execution": {
     "iopub.execute_input": "2024-06-02T08:17:53.111789Z",
     "iopub.status.busy": "2024-06-02T08:17:53.111136Z",
     "iopub.status.idle": "2024-06-02T08:18:09.578901Z",
     "shell.execute_reply": "2024-06-02T08:18:09.577795Z",
     "shell.execute_reply.started": "2024-06-02T08:17:53.111750Z"
    }
   },
   "outputs": [],
   "source": [
    "import os\n",
    "import torch\n",
    "import seaborn as sns\n",
    "import matplotlib.pyplot as plt\n",
    "from torch.utils.data import Dataset, DataLoader, Subset\n",
    "from sklearn.model_selection import train_test_split\n",
    "\n",
    "from data import DataSet\n",
    "from models import AutoEncoder"
   ]
  },
  {
   "cell_type": "code",
   "execution_count": 3,
   "id": "0e8281d2-0ac6-4344-b1b2-6922dc23f2a5",
   "metadata": {
    "execution": {
     "iopub.execute_input": "2024-06-01T06:35:02.703427Z",
     "iopub.status.busy": "2024-06-01T06:35:02.702939Z",
     "iopub.status.idle": "2024-06-01T06:35:03.117597Z",
     "shell.execute_reply": "2024-06-01T06:35:03.116776Z",
     "shell.execute_reply.started": "2024-06-01T06:35:02.703394Z"
    }
   },
   "outputs": [],
   "source": [
    "dataset = DataSet(base_path='../data/cartoonset100k')"
   ]
  },
  {
   "cell_type": "code",
   "execution_count": 26,
   "id": "d770a85c-f05d-4632-bc79-fa87993f4347",
   "metadata": {
    "execution": {
     "iopub.execute_input": "2024-06-01T06:56:09.274369Z",
     "iopub.status.busy": "2024-06-01T06:56:09.273836Z",
     "iopub.status.idle": "2024-06-01T06:56:09.315879Z",
     "shell.execute_reply": "2024-06-01T06:56:09.314951Z",
     "shell.execute_reply.started": "2024-06-01T06:56:09.274332Z"
    }
   },
   "outputs": [
    {
     "name": "stdout",
     "output_type": "stream",
     "text": [
      "30000\n"
     ]
    }
   ],
   "source": [
    "train_index, test_index = train_test_split(range(len(dataset)), test_size=0.3, random_state=0) # fix random state\n",
    "test_dataset = Subset(dataset, test_index)\n",
    "print(len(test_dataset))\n",
    "test_loader = DataLoader(\n",
    "    test_dataset, batch_size=1, shuffle=False, num_workers=4, #pin_memory=True\n",
    ")"
   ]
  },
  {
   "cell_type": "code",
   "execution_count": 46,
   "id": "7885395f-7068-485d-b7e1-b3d3945cc5d5",
   "metadata": {
    "execution": {
     "iopub.execute_input": "2024-06-01T07:27:33.141654Z",
     "iopub.status.busy": "2024-06-01T07:27:33.141055Z",
     "iopub.status.idle": "2024-06-01T07:27:33.148997Z",
     "shell.execute_reply": "2024-06-01T07:27:33.148254Z",
     "shell.execute_reply.started": "2024-06-01T07:27:33.141618Z"
    }
   },
   "outputs": [
    {
     "name": "stdout",
     "output_type": "stream",
     "text": [
      "100\n",
      "100\n"
     ]
    }
   ],
   "source": [
    "gan_dataset = DataSet(base_path='./gan_gen', is_for_anomaly=True)\n",
    "vae_dataset = DataSet(base_path='./vae_gen', is_for_anomaly=True)\n",
    "print(len(gan_dataset))\n",
    "print(len(vae_dataset))"
   ]
  },
  {
   "cell_type": "code",
   "execution_count": 47,
   "id": "c17874c5-0717-4537-a781-b4510f9d41e0",
   "metadata": {
    "execution": {
     "iopub.execute_input": "2024-06-01T07:27:34.393694Z",
     "iopub.status.busy": "2024-06-01T07:27:34.393238Z",
     "iopub.status.idle": "2024-06-01T07:27:34.398984Z",
     "shell.execute_reply": "2024-06-01T07:27:34.398027Z",
     "shell.execute_reply.started": "2024-06-01T07:27:34.393662Z"
    }
   },
   "outputs": [],
   "source": [
    "gan_loader = DataLoader(\n",
    "    gan_dataset, batch_size=1, shuffle=False, num_workers=4, #pin_memory=True\n",
    ")\n",
    "vae_loader = DataLoader(\n",
    "    vae_dataset, batch_size=1, shuffle=False, num_workers=4, #pin_memory=True\n",
    ")"
   ]
  },
  {
   "cell_type": "code",
   "execution_count": 18,
   "id": "ed365a91-c21c-407f-8e06-b9a38f260184",
   "metadata": {
    "execution": {
     "iopub.execute_input": "2024-06-01T06:51:20.464425Z",
     "iopub.status.busy": "2024-06-01T06:51:20.463851Z",
     "iopub.status.idle": "2024-06-01T06:51:20.755131Z",
     "shell.execute_reply": "2024-06-01T06:51:20.754361Z",
     "shell.execute_reply.started": "2024-06-01T06:51:20.464386Z"
    }
   },
   "outputs": [
    {
     "data": {
      "text/plain": [
       "AutoEncoder(\n",
       "  (encoder): Encoder(\n",
       "    (layer1): Sequential(\n",
       "      (0): Conv2d(3, 32, kernel_size=(3, 3), stride=(1, 1))\n",
       "      (1): ELU(alpha=1.0)\n",
       "      (2): Dropout(p=0.25, inplace=False)\n",
       "      (3): Conv2d(32, 64, kernel_size=(3, 3), stride=(2, 2))\n",
       "      (4): ELU(alpha=1.0)\n",
       "      (5): Conv2d(64, 64, kernel_size=(3, 3), stride=(1, 1))\n",
       "      (6): ELU(alpha=1.0)\n",
       "      (7): MaxPool2d(kernel_size=(3, 3), stride=2, padding=0, dilation=1, ceil_mode=False)\n",
       "    )\n",
       "    (layer2): Sequential(\n",
       "      (0): Conv2d(64, 128, kernel_size=(3, 3), stride=(1, 1))\n",
       "      (1): ELU(alpha=1.0)\n",
       "      (2): Dropout(p=0.25, inplace=False)\n",
       "      (3): Conv2d(128, 256, kernel_size=(3, 3), stride=(2, 2))\n",
       "      (4): ELU(alpha=1.0)\n",
       "      (5): Conv2d(256, 256, kernel_size=(3, 3), stride=(1, 1))\n",
       "      (6): ELU(alpha=1.0)\n",
       "      (7): MaxPool2d(kernel_size=(3, 3), stride=2, padding=0, dilation=1, ceil_mode=False)\n",
       "    )\n",
       "    (layer3): Sequential(\n",
       "      (0): Conv2d(256, 256, kernel_size=(3, 3), stride=(1, 1))\n",
       "      (1): ELU(alpha=1.0)\n",
       "      (2): Dropout(p=0.25, inplace=False)\n",
       "      (3): Conv2d(256, 512, kernel_size=(3, 3), stride=(1, 1))\n",
       "      (4): ELU(alpha=1.0)\n",
       "    )\n",
       "    (fc): Linear(in_features=512, out_features=512, bias=True)\n",
       "  )\n",
       "  (decoder): Decoder(\n",
       "    (fc): Sequential(\n",
       "      (0): Linear(in_features=512, out_features=512, bias=True)\n",
       "      (1): ELU(alpha=1.0)\n",
       "    )\n",
       "    (layer1): Sequential(\n",
       "      (0): ConvTranspose2d(512, 512, kernel_size=(3, 3), stride=(2, 2))\n",
       "      (1): ELU(alpha=1.0)\n",
       "      (2): UpsamplingNearest2d(scale_factor=2.0, mode='nearest')\n",
       "      (3): ConvTranspose2d(512, 256, kernel_size=(3, 3), stride=(1, 1))\n",
       "      (4): ELU(alpha=1.0)\n",
       "      (5): ConvTranspose2d(256, 256, kernel_size=(3, 3), stride=(2, 2), padding=(1, 1))\n",
       "      (6): ELU(alpha=1.0)\n",
       "      (7): Dropout(p=0.25, inplace=False)\n",
       "    )\n",
       "    (layer2): Sequential(\n",
       "      (0): ConvTranspose2d(256, 128, kernel_size=(3, 3), stride=(2, 2), padding=(1, 1))\n",
       "      (1): ELU(alpha=1.0)\n",
       "      (2): UpsamplingNearest2d(scale_factor=2.0, mode='nearest')\n",
       "      (3): ConvTranspose2d(128, 64, kernel_size=(3, 3), stride=(1, 1))\n",
       "      (4): ELU(alpha=1.0)\n",
       "      (5): ConvTranspose2d(64, 64, kernel_size=(3, 3), stride=(1, 1))\n",
       "      (6): ELU(alpha=1.0)\n",
       "      (7): Dropout(p=0.25, inplace=False)\n",
       "      (8): ConvTranspose2d(64, 32, kernel_size=(3, 3), stride=(2, 2), output_padding=(1, 1))\n",
       "      (9): ELU(alpha=1.0)\n",
       "      (10): ConvTranspose2d(32, 3, kernel_size=(3, 3), stride=(1, 1))\n",
       "      (11): ELU(alpha=1.0)\n",
       "    )\n",
       "  )\n",
       ")"
      ]
     },
     "execution_count": 18,
     "metadata": {},
     "output_type": "execute_result"
    }
   ],
   "source": [
    "model = AutoEncoder('ELU')\n",
    "checkpoint = torch.load('result/AE_6/best_model.pt')\n",
    "model.load_state_dict(checkpoint)\n",
    "model.cuda()"
   ]
  },
  {
   "cell_type": "code",
   "execution_count": 29,
   "id": "59d9b25f-775c-4cfd-842f-e88cd8643155",
   "metadata": {
    "execution": {
     "iopub.execute_input": "2024-06-01T06:56:21.897782Z",
     "iopub.status.busy": "2024-06-01T06:56:21.897187Z",
     "iopub.status.idle": "2024-06-01T06:56:21.904481Z",
     "shell.execute_reply": "2024-06-01T06:56:21.903589Z",
     "shell.execute_reply.started": "2024-06-01T06:56:21.897743Z"
    }
   },
   "outputs": [],
   "source": [
    "def collect_losses(model, dataloader):\n",
    "    model.eval()\n",
    "    loss_fn = torch.nn.MSELoss()\n",
    "    losses = []\n",
    "    with torch.no_grad():\n",
    "        for batch in dataloader:\n",
    "            batch = batch.cuda()\n",
    "            output = model(batch)            \n",
    "            loss = loss_fn(output, batch)\n",
    "            losses.append(loss.cpu().item())\n",
    "    return losses"
   ]
  },
  {
   "cell_type": "code",
   "execution_count": 84,
   "id": "5ae03091-0794-4988-96f0-1070571b7191",
   "metadata": {
    "execution": {
     "iopub.execute_input": "2024-06-01T07:57:49.447531Z",
     "iopub.status.busy": "2024-06-01T07:57:49.446883Z",
     "iopub.status.idle": "2024-06-01T07:57:51.708761Z",
     "shell.execute_reply": "2024-06-01T07:57:51.706790Z",
     "shell.execute_reply.started": "2024-06-01T07:57:49.447484Z"
    }
   },
   "outputs": [],
   "source": [
    "vae_loss = collect_losses(model, vae_loader)\n",
    "gan_loss = collect_losses(model, gan_loader)\n",
    "# test_loss = collect_losses(model, test_loader)"
   ]
  },
  {
   "cell_type": "code",
   "execution_count": 68,
   "id": "b3f39dd2-ba96-4cce-a0ff-60bfd696a460",
   "metadata": {
    "execution": {
     "iopub.execute_input": "2024-06-01T07:38:58.199790Z",
     "iopub.status.busy": "2024-06-01T07:38:58.199199Z",
     "iopub.status.idle": "2024-06-01T07:38:58.217222Z",
     "shell.execute_reply": "2024-06-01T07:38:58.215892Z",
     "shell.execute_reply.started": "2024-06-01T07:38:58.199754Z"
    }
   },
   "outputs": [
    {
     "name": "stdout",
     "output_type": "stream",
     "text": [
      "0.00020177162137867223\n",
      "0.0026866020634770393\n"
     ]
    }
   ],
   "source": [
    "test_loss_mean = np.mean(test_loss)\n",
    "test_max = max(test_loss)\n",
    "test_min = min(test_loss)\n",
    "print(test_loss_mean)\n",
    "print(test_max)"
   ]
  },
  {
   "cell_type": "code",
   "execution_count": 86,
   "id": "58823723-aacd-4194-bfd5-9588faa8d3c9",
   "metadata": {
    "execution": {
     "iopub.execute_input": "2024-06-01T07:58:06.526992Z",
     "iopub.status.busy": "2024-06-01T07:58:06.526570Z",
     "iopub.status.idle": "2024-06-01T07:58:06.720811Z",
     "shell.execute_reply": "2024-06-01T07:58:06.719911Z",
     "shell.execute_reply.started": "2024-06-01T07:58:06.526958Z"
    }
   },
   "outputs": [
    {
     "data": {
      "image/png": "[encoded data removed]",
      "text/plain": [
       "<Figure size 640x480 with 1 Axes>"
      ]
     },
     "metadata": {},
     "output_type": "display_data"
    }
   ],
   "source": [
    "plt.scatter(range(100), vae_loss, color='#FFDB00', label='VAE')\n",
    "plt.scatter(range(100), gan_loss, color='#AF47D2', label='GAN')\n",
    "plt.scatter(range(100), test_loss[:100], color='#FF8F00', label='test sample')\n",
    "plt.ylabel('Loss')\n",
    "plt.xticks([])\n",
    "plt.legend()\n",
    "plt.show()"
   ]
  },
  {
   "cell_type": "code",
   "execution_count": 87,
   "id": "a31ace55-2eb7-464f-85b0-4bb9b159f4d2",
   "metadata": {
    "execution": {
     "iopub.execute_input": "2024-06-01T07:58:36.661433Z",
     "iopub.status.busy": "2024-06-01T07:58:36.660631Z",
     "iopub.status.idle": "2024-06-01T07:58:37.192288Z",
     "shell.execute_reply": "2024-06-01T07:58:37.191355Z",
     "shell.execute_reply.started": "2024-06-01T07:58:36.661382Z"
    }
   },
   "outputs": [
    {
     "data": {
      "image/png": "[encoded data removed]",
      "text/plain": [
       "<Figure size 640x480 with 1 Axes>"
      ]
     },
     "metadata": {},
     "output_type": "display_data"
    }
   ],
   "source": [
    "sns.swarmplot(vae_loss, label='VAE', color='#FFDB00')\n",
    "sns.swarmplot(gan_loss, label='GAN', color='#AF47D2')\n",
    "plt.legend()\n",
    "plt.show()"
   ]
  },
  {
   "cell_type": "code",
   "execution_count": 91,
   "id": "805a12fa-24fb-46df-a9b0-4e4088758ba2",
   "metadata": {
    "execution": {
     "iopub.execute_input": "2024-06-01T07:59:49.046909Z",
     "iopub.status.busy": "2024-06-01T07:59:49.046374Z",
     "iopub.status.idle": "2024-06-01T07:59:49.052915Z",
     "shell.execute_reply": "2024-06-01T07:59:49.051927Z",
     "shell.execute_reply.started": "2024-06-01T07:59:49.046870Z"
    }
   },
   "outputs": [
    {
     "data": {
      "text/plain": [
       "float"
      ]
     },
     "execution_count": 91,
     "metadata": {},
     "output_type": "execute_result"
    }
   ],
   "source": [
    "type(vae_loss[0])"
   ]
  },
  {
   "cell_type": "code",
   "execution_count": 88,
   "id": "9eced7f3-6d94-4952-92f5-32b7aa58e5e2",
   "metadata": {
    "execution": {
     "iopub.execute_input": "2024-06-01T07:59:24.608594Z",
     "iopub.status.busy": "2024-06-01T07:59:24.608046Z",
     "iopub.status.idle": "2024-06-01T07:59:24.614905Z",
     "shell.execute_reply": "2024-06-01T07:59:24.613897Z",
     "shell.execute_reply.started": "2024-06-01T07:59:24.608552Z"
    }
   },
   "outputs": [
    {
     "data": {
      "text/plain": [
       "0.003131949109956622"
      ]
     },
     "execution_count": 88,
     "metadata": {},
     "output_type": "execute_result"
    }
   ],
   "source": [
    "min(min(vae_loss), min(gan_loss))"
   ]
  },
  {
   "cell_type": "code",
   "execution_count": 92,
   "id": "74f1817b-f6a1-4898-b468-d9061bf5d439",
   "metadata": {
    "execution": {
     "iopub.execute_input": "2024-06-01T08:00:19.469265Z",
     "iopub.status.busy": "2024-06-01T08:00:19.468710Z",
     "iopub.status.idle": "2024-06-01T08:00:19.477491Z",
     "shell.execute_reply": "2024-06-01T08:00:19.476693Z",
     "shell.execute_reply.started": "2024-06-01T08:00:19.469226Z"
    }
   },
   "outputs": [
    {
     "data": {
      "text/plain": [
       "0.0026866020634770393"
      ]
     },
     "execution_count": 92,
     "metadata": {},
     "output_type": "execute_result"
    }
   ],
   "source": [
    "max(test_loss)"
   ]
  }
 ],
 "metadata": {
  "kernelspec": {
   "display_name": "anomaly",
   "language": "python",
   "name": "anomaly"
  },
  "language_info": {
   "codemirror_mode": {
    "name": "ipython",
    "version": 3
   },
   "file_extension": ".py",
   "mimetype": "text/x-python",
   "name": "python",
   "nbconvert_exporter": "python",
   "pygments_lexer": "ipython3",
   "version": "3.10.12"
  }
 },
 "nbformat": 4,
 "nbformat_minor": 5
}
